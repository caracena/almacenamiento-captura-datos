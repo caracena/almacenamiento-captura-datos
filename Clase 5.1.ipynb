{
 "cells": [
  {
   "cell_type": "markdown",
   "metadata": {},
   "source": [
    "## Web scraping"
   ]
  },
  {
   "cell_type": "markdown",
   "metadata": {},
   "source": [
    "### Ejercicio 1"
   ]
  },
  {
   "cell_type": "markdown",
   "metadata": {},
   "source": [
    "Extraer el título de la página de python.org "
   ]
  },
  {
   "cell_type": "code",
   "execution_count": null,
   "metadata": {},
   "outputs": [],
   "source": [
    "!pip install beautifulsoup4\n",
    "!pip install requests"
   ]
  },
  {
   "cell_type": "code",
   "execution_count": null,
   "metadata": {},
   "outputs": [],
   "source": [
    "## usando urllib\n",
    "from urllib.request import urlopen\n",
    "from bs4 import BeautifulSoup\n",
    " \n",
    "html = urlopen(\"https://www.python.org/\")\n",
    "\n",
    "res = BeautifulSoup(html.read())\n",
    " \n",
    "print(res.title.text)"
   ]
  },
  {
   "cell_type": "code",
   "execution_count": null,
   "metadata": {},
   "outputs": [],
   "source": [
    "## usando requests\n",
    "import requests\n",
    "\n",
    "r = requests.get(\"https://www.python.org/\")\n",
    "\n",
    "res = BeautifulSoup(r.text)\n",
    " \n",
    "print(res.title.text)"
   ]
  },
  {
   "cell_type": "markdown",
   "metadata": {},
   "source": [
    "### Ejercicio 2"
   ]
  },
  {
   "cell_type": "markdown",
   "metadata": {},
   "source": [
    "Extraer productos y precios de linio"
   ]
  },
  {
   "cell_type": "code",
   "execution_count": null,
   "metadata": {},
   "outputs": [],
   "source": [
    "r = requests.get(\"https://www.linio.cl/c/computacion/pc-portatil\")\n",
    "res = BeautifulSoup(r.text)\n",
    "print(res.title.text)"
   ]
  },
  {
   "cell_type": "code",
   "execution_count": null,
   "metadata": {},
   "outputs": [],
   "source": [
    "span_paginas = res.find('span', {'class': 'pagination-text'})\n",
    "n_paginas = span_paginas.text.split()[-1]\n",
    "n_paginas"
   ]
  },
  {
   "cell_type": "code",
   "execution_count": null,
   "metadata": {},
   "outputs": [],
   "source": [
    "res.find('span', {'class': 'pagination-text'}).text.split()[-1]"
   ]
  },
  {
   "cell_type": "code",
   "execution_count": null,
   "metadata": {},
   "outputs": [],
   "source": [
    "productos = []\n",
    "\n",
    "for i in range(3):\n",
    "    r = requests.get(\"https://www.linio.cl/c/computacion/pc-portatil?page=\" + str(i+1))\n",
    "    res = BeautifulSoup(r.text)\n",
    "    \n",
    "    products = res.find_all('div', {'class':'catalogue-product', 'class':'row'})\n",
    "    \n",
    "    for p in products:\n",
    "        \n",
    "        title = p.find('meta', {'itemprop':'name'})\n",
    "        price = p.find('meta', {'itemprop':'price'})\n",
    "        \n",
    "        if title:\n",
    "            print(title['content'])\n",
    "        if price:\n",
    "            print(price['content'])\n",
    "            productos.append({'title':title['content'], 'price':price['content']})"
   ]
  },
  {
   "cell_type": "code",
   "execution_count": null,
   "metadata": {},
   "outputs": [],
   "source": [
    "import pandas as pd\n",
    "\n",
    "df = pd.DataFrame(productos)\n",
    "df"
   ]
  },
  {
   "cell_type": "markdown",
   "metadata": {},
   "source": [
    "### Ejercicio 3"
   ]
  },
  {
   "cell_type": "markdown",
   "metadata": {},
   "source": [
    "Extraer nombre y precio de los notebooks de las 3 primeras paginas de notebooks de solotodo (https://www.solotodo.cl/notebooks) "
   ]
  },
  {
   "cell_type": "code",
   "execution_count": null,
   "metadata": {},
   "outputs": [],
   "source": [
    "productos = []\n",
    "\n",
    "for i in range(3):\n",
    "    r = requests.get(\"https://www.solotodo.cl/notebooks?ordering=offer_price_usd&page={}&\".format(i+1))\n",
    "    res = BeautifulSoup(r.text)\n",
    "    \n",
    "    products = res.find_all('div', {'class':'d-flex flex-column category-browse-result'})\n",
    "    \n",
    "    for p in products:\n",
    "        \n",
    "        title = p.find('h3').text\n",
    "        price = p.find('div', {'class':'price flex-grow'}).text\n",
    "        \n",
    "            \n",
    "        productos.append({'title':title, 'price':price})\n",
    "        \n",
    "df = pd.DataFrame(productos)\n",
    "df"
   ]
  }
 ],
 "metadata": {
  "kernelspec": {
   "display_name": "Python 3",
   "language": "python",
   "name": "python3"
  },
  "language_info": {
   "codemirror_mode": {
    "name": "ipython",
    "version": 3
   },
   "file_extension": ".py",
   "mimetype": "text/x-python",
   "name": "python",
   "nbconvert_exporter": "python",
   "pygments_lexer": "ipython3",
   "version": "3.6.9"
  }
 },
 "nbformat": 4,
 "nbformat_minor": 2
}
