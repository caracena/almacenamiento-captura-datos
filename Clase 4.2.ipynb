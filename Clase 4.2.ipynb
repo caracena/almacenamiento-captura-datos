{
 "cells": [
  {
   "cell_type": "markdown",
   "id": "d1068ecd",
   "metadata": {},
   "source": [
    "### Ejercicio 1"
   ]
  },
  {
   "cell_type": "code",
   "execution_count": null,
   "id": "8eff4dd2",
   "metadata": {},
   "outputs": [],
   "source": [
    "import sqlite3\n",
    "import pandas as pd\n",
    "\n",
    "## extract\n",
    "\n",
    "def extract():\n",
    "    conn = sqlite3.connect(\"data/chinook.db\")\n",
    "    data = pd.read_sql(\"SELECT * FROM invoices i JOIN customers c ON i.CustomerId = c.CustomerId\", conn)\n",
    "    conn.close()\n",
    "    \n",
    "    return data"
   ]
  },
  {
   "cell_type": "code",
   "execution_count": null,
   "id": "6cc11f6b",
   "metadata": {},
   "outputs": [],
   "source": [
    "## transform\n",
    "\n",
    "def transform(data):\n",
    "    data['Total'] = data['Total'] * 920\n",
    "    data = data[['InvoiceId', 'Total', 'FirstName']]\n",
    "    \n",
    "    return data"
   ]
  },
  {
   "cell_type": "code",
   "execution_count": null,
   "id": "2efcd32a",
   "metadata": {},
   "outputs": [],
   "source": [
    "import time\n",
    "\n",
    "## load to\n",
    "\n",
    "def load_csv(data, filename):\n",
    "    data.to_csv(filename)\n",
    "    \n",
    "def load_sql(data):\n",
    "    conn = sqlite3.connect(\"data/ventas.db\")\n",
    "    data.to_sql(\"ventas\", conn, index=False, if_exists='fail')\n",
    "    conn.close()\n",
    "    \n",
    "def load_sql_insert(data):\n",
    "    conn = sqlite3.connect(\"data/ventas_insert.db\")\n",
    "    cur = conn.cursor()\n",
    "    \n",
    "    try:\n",
    "        cur.execute(\"\"\"\n",
    "        CREATE TABLE IF NOT EXISTS ventas (\n",
    "            invoiceid INTEGER PRIMARY KEY,\n",
    "            total REAL,\n",
    "            name TEXT\n",
    "        )\n",
    "        \"\"\")\n",
    "        \n",
    "        for index, row in data.iterrows():\n",
    "            print(index)\n",
    "            insert_stmt = \"INSERT INTO ventas (invoiceid, total, name) VALUES (?, ?, ?)\"\n",
    "            d = [row['InvoiceId'], row['Total'], row['FirstName']]\n",
    "            cur.execute(insert_stmt, d)\n",
    "            conn.commit()\n",
    "    except e:\n",
    "        print('Error')\n",
    "    finally:\n",
    "        conn.close()\n",
    "    \n"
   ]
  },
  {
   "cell_type": "code",
   "execution_count": null,
   "id": "44a1317b",
   "metadata": {},
   "outputs": [],
   "source": [
    "from datetime import datetime\n",
    "\n",
    "def log(message):\n",
    "    timestamp_format = \"%Y-%m-%d %H:%M:%S\"\n",
    "    now = datetime.now()\n",
    "    timestamp = now.strftime(timestamp_format)\n",
    "    with open('logfile.txt', 'a') as f:\n",
    "        f.write(message + ' ' + timestamp + '\\n')\n",
    "        print(message + ' ' + timestamp)"
   ]
  },
  {
   "cell_type": "code",
   "execution_count": null,
   "id": "4782eaef",
   "metadata": {},
   "outputs": [],
   "source": [
    "## main\n",
    "log(\"ETL iniciado\")\n",
    "\n",
    "log(\"extraccion iniciada\")\n",
    "data = extract()\n",
    "log(\"extraccion finalizada\")\n",
    "\n",
    "log(\"transformacion iniciada\")\n",
    "data = transform(data)\n",
    "log(\"transformacion finalizada\")\n",
    "\n",
    "log(\"carga iniciada\")\n",
    "load_sql_insert(data)\n",
    "log(\"carga finalizada\")\n",
    "\n",
    "log(\"ETL finalizado\")"
   ]
  },
  {
   "cell_type": "code",
   "execution_count": null,
   "id": "6d1ef1be",
   "metadata": {},
   "outputs": [],
   "source": [
    "## check table\n",
    "\n",
    "conn = sqlite3.connect(\"data/ventas_insert.db\")\n",
    "pd.read_sql(\"SELECT * FROM ventas\", conn)"
   ]
  },
  {
   "cell_type": "markdown",
   "id": "b192e01e",
   "metadata": {},
   "source": [
    "### Ejercicio 2"
   ]
  },
  {
   "cell_type": "markdown",
   "id": "2e638071",
   "metadata": {},
   "source": [
    "Cree un proceso ETL que:\n",
    "- Extraer el id de invoice, total de ventas y la cantidad de tracks vendidos en esas ventas\n",
    "- Transfomar los datos incluyendo el precio promedio por track (Total/cantidad de tracks)\n",
    "- Cargar los datos transformados en la tabla ventas_tracks en la base de datos ventas del ejercicio anterior\n"
   ]
  },
  {
   "cell_type": "code",
   "execution_count": null,
   "id": "e7821636",
   "metadata": {},
   "outputs": [],
   "source": [
    "def extract():\n",
    "    conn = sqlite3.connect(\"data/chinook.db\")\n",
    "    data = pd.read_sql(\"\"\"\n",
    "    \n",
    "    ...\n",
    "    \n",
    "    \"\"\", conn)\n",
    "    conn.close()\n",
    "    \n",
    "    return data"
   ]
  },
  {
   "cell_type": "code",
   "execution_count": null,
   "id": "b5703ae7",
   "metadata": {},
   "outputs": [],
   "source": [
    "def transform(data):\n",
    "    \n",
    "    ...\n",
    "    \n",
    "    return data"
   ]
  },
  {
   "cell_type": "code",
   "execution_count": null,
   "id": "05c41c20",
   "metadata": {},
   "outputs": [],
   "source": [
    "def load_sql(data):\n",
    "    conn = sqlite3.connect(\"data/ventas.db\")\n",
    "    \n",
    "    ...\n",
    "    \n",
    "    conn.close()"
   ]
  },
  {
   "cell_type": "code",
   "execution_count": null,
   "id": "a1a29f42",
   "metadata": {},
   "outputs": [],
   "source": [
    "## main\n",
    "log(\"ETL iniciado\")\n",
    "\n",
    "log(\"extraccion iniciada\")\n",
    "data = extract()\n",
    "log(\"extraccion finalizada\")\n",
    "\n",
    "log(\"transformacion iniciada\")\n",
    "data = transform(data)\n",
    "log(\"transformacion finalizada\")\n",
    "\n",
    "log(\"carga iniciada\")\n",
    "load_sql(data)\n",
    "log(\"carga finalizada\")\n",
    "\n",
    "log(\"ETL finalizado\")"
   ]
  },
  {
   "cell_type": "code",
   "execution_count": null,
   "id": "708882e0",
   "metadata": {},
   "outputs": [],
   "source": [
    "## check table\n",
    "\n",
    "conn = sqlite3.connect(\"data/ventas.db\")\n",
    "pd.read_sql(\"SELECT * FROM ventas_tracks\", conn)"
   ]
  }
 ],
 "metadata": {
  "kernelspec": {
   "display_name": "Python 3 (ipykernel)",
   "language": "python",
   "name": "python3"
  },
  "language_info": {
   "codemirror_mode": {
    "name": "ipython",
    "version": 3
   },
   "file_extension": ".py",
   "mimetype": "text/x-python",
   "name": "python",
   "nbconvert_exporter": "python",
   "pygments_lexer": "ipython3",
   "version": "3.8.10"
  }
 },
 "nbformat": 4,
 "nbformat_minor": 5
}
