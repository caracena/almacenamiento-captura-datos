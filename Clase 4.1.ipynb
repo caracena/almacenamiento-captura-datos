{
 "cells": [
  {
   "cell_type": "markdown",
   "metadata": {},
   "source": [
    "## Base de datos en Python"
   ]
  },
  {
   "cell_type": "markdown",
   "metadata": {},
   "source": [
    "Recursos\n",
    "sqlite3 https://docs.python.org/3/library/sqlite3.html\n",
    "\n",
    "MySQL https://www.w3schools.com/python/python_mysql_getstarted.asp\n",
    "\n",
    "PostgresSQL https://wiki.postgresql.org/wiki/Using_psycopg2_with_PostgreSQL\n",
    "\n",
    "Oracle https://stackoverflow.com/questions/49030388/how-to-connect-to-oracle-12c-database-using-cx-oracle\n",
    "\n",
    "SQL Server https://stackoverflow.com/questions/33725862/connecting-to-microsoft-sql-server-using-python"
   ]
  },
  {
   "cell_type": "markdown",
   "metadata": {},
   "source": [
    "### Ejercicio 1"
   ]
  },
  {
   "cell_type": "markdown",
   "metadata": {},
   "source": [
    "Conectarse a la base de datos sqlite que está en data/chinook.db y extraer todos los albums"
   ]
  },
  {
   "cell_type": "code",
   "execution_count": null,
   "metadata": {},
   "outputs": [],
   "source": [
    "import sqlite3\n",
    "\n",
    "conn = sqlite3.connect(\"data/chinook.db\")"
   ]
  },
  {
   "cell_type": "code",
   "execution_count": null,
   "metadata": {},
   "outputs": [],
   "source": [
    "conn"
   ]
  },
  {
   "cell_type": "code",
   "execution_count": null,
   "metadata": {},
   "outputs": [],
   "source": [
    "cur = conn.cursor()\n",
    "\n",
    "cur.execute(\"SELECT * FROM albums\")"
   ]
  },
  {
   "cell_type": "code",
   "execution_count": null,
   "metadata": {},
   "outputs": [],
   "source": [
    "rows = cur.fetchall()\n",
    "rows"
   ]
  },
  {
   "cell_type": "code",
   "execution_count": null,
   "metadata": {},
   "outputs": [],
   "source": [
    "conn.close()"
   ]
  },
  {
   "cell_type": "markdown",
   "metadata": {},
   "source": [
    "### Ejercicio 2"
   ]
  },
  {
   "cell_type": "markdown",
   "metadata": {},
   "source": [
    "Conectarse a la misma base de datos y extraer todos los clientes con pandas"
   ]
  },
  {
   "cell_type": "code",
   "execution_count": null,
   "metadata": {},
   "outputs": [],
   "source": [
    "import pandas as pd\n",
    "\n",
    "pd.read_sql(\"SELECT * FROM albums\", conn)"
   ]
  },
  {
   "cell_type": "code",
   "execution_count": null,
   "metadata": {},
   "outputs": [],
   "source": [
    "df2 = pd.read_sql(\"SELECT * FROM artists\", conn)\n",
    "df2"
   ]
  },
  {
   "cell_type": "code",
   "execution_count": null,
   "metadata": {},
   "outputs": [],
   "source": [
    "df1 = pd.read_sql(\"SELECT * FROM albums\", conn)\n",
    "df2 = pd.read_sql(\"SELECT * FROM artists\", conn)\n",
    "df3 = df1.merge(df2, how=\"inner\", on=\"ArtistId\")\n",
    "df3"
   ]
  },
  {
   "cell_type": "markdown",
   "metadata": {},
   "source": [
    "### Ejercicio 3"
   ]
  },
  {
   "cell_type": "markdown",
   "metadata": {},
   "source": [
    "Crear una base de datos con Pandas utilizando un dataframe"
   ]
  },
  {
   "cell_type": "code",
   "execution_count": null,
   "metadata": {},
   "outputs": [],
   "source": [
    "!pip install sqlalchemy"
   ]
  },
  {
   "cell_type": "code",
   "execution_count": null,
   "metadata": {},
   "outputs": [],
   "source": [
    "from sqlalchemy import create_engine\n",
    "\n",
    "sql_engine = create_engine('sqlite:///data/test.db')\n",
    "connection = sql_engine.raw_connection()"
   ]
  },
  {
   "cell_type": "code",
   "execution_count": null,
   "metadata": {},
   "outputs": [],
   "source": [
    "df3.to_sql('artists_albums', connection, index=False)"
   ]
  },
  {
   "cell_type": "code",
   "execution_count": null,
   "metadata": {},
   "outputs": [],
   "source": [
    "pd.read_sql(\"SELECT * FROM artists_albums\", connection)"
   ]
  },
  {
   "cell_type": "markdown",
   "metadata": {},
   "source": [
    "### Ejercicio 4"
   ]
  },
  {
   "cell_type": "markdown",
   "metadata": {},
   "source": [
    "Comparar tiempos de ejecución entre consultas en SQL y pandas"
   ]
  },
  {
   "cell_type": "code",
   "execution_count": null,
   "metadata": {},
   "outputs": [],
   "source": [
    "import timeit\n",
    "\n",
    "code1 = \"\"\"\n",
    "import pandas as pd\n",
    "import sqlite3\n",
    "\n",
    "conn = sqlite3.connect(\"data/chinook.db\")\n",
    "pd.read_sql(\"SELECT * FROM albums a JOIN artists ar ON  a.ArtistId = ar.ArtistId\", conn)\n",
    "\"\"\"\n",
    "time1 = timeit.timeit(code1, number=2000)\n",
    "print(time1)"
   ]
  },
  {
   "cell_type": "code",
   "execution_count": null,
   "metadata": {},
   "outputs": [],
   "source": [
    "code2 = \"\"\"\n",
    "import pandas as pd\n",
    "import sqlite3\n",
    "\n",
    "conn = sqlite3.connect(\"data/chinook.db\")\n",
    "df1 = pd.read_sql(\"SELECT * FROM albums\", conn)\n",
    "df2 = pd.read_sql(\"SELECT * FROM artists\", conn)\n",
    "df1.merge(df2, how=\"inner\", on=\"ArtistId\")\n",
    "\"\"\"\n",
    "time2 = timeit.timeit(code2, number=2000)\n",
    "print(time2)"
   ]
  },
  {
   "cell_type": "markdown",
   "metadata": {},
   "source": [
    "### Ejercicio 5"
   ]
  },
  {
   "cell_type": "markdown",
   "metadata": {},
   "source": [
    "Realizar consultas en pandas con data extraída desde base de datos y comparar ejecución con realizar consulta SQL"
   ]
  },
  {
   "cell_type": "code",
   "execution_count": null,
   "metadata": {},
   "outputs": [],
   "source": [
    "## Primer nombre de los empleados\n",
    "## select firstname from employees\n",
    "\n",
    "code1 = \"\"\"\n",
    "import pandas as pd\n",
    "import sqlite3\n",
    "\n",
    "conn = sqlite3.connect(\"data/chinook.db\")\n",
    "employees = pd.read_sql(\"select firstname from employees\", conn)\n",
    "\"\"\"\n",
    "time1 = timeit.timeit(code1, number=2000)\n",
    "print(time1)\n",
    "\n",
    "code2 = \"\"\"\n",
    "import pandas as pd\n",
    "import sqlite3\n",
    "\n",
    "conn = sqlite3.connect(\"data/chinook.db\")\n",
    "employees = pd.read_sql(\"select * from employees\", conn)\n",
    "\n",
    "...\n",
    "\n",
    "\"\"\"\n",
    "time2 = timeit.timeit(code2, number=2000)\n",
    "print(time2)"
   ]
  },
  {
   "cell_type": "code",
   "execution_count": null,
   "metadata": {},
   "outputs": [],
   "source": [
    "## países únicos de los clientes\n",
    "## select distinct country from customers\n",
    "\n",
    "code1 = \"\"\"\n",
    "import pandas as pd\n",
    "import sqlite3\n",
    "\n",
    "conn = sqlite3.connect(\"data/chinook.db\")\n",
    "countries = pd.read_sql(\"select distinct country from customers\", conn)\n",
    "\"\"\"\n",
    "time1 = timeit.timeit(code1, number=2000)\n",
    "print(time1)\n",
    "\n",
    "code2 = \"\"\"\n",
    "import pandas as pd\n",
    "import sqlite3\n",
    "\n",
    "conn = sqlite3.connect(\"data/chinook.db\")\n",
    "customers = pd.read_sql(\"select * from customers\", conn)\n",
    "\n",
    "...\n",
    "\n",
    "\"\"\"\n",
    "time2 = timeit.timeit(code2, number=2000)\n",
    "print(time2)"
   ]
  },
  {
   "cell_type": "code",
   "execution_count": null,
   "metadata": {},
   "outputs": [],
   "source": [
    "# ordenar clientes por pais de forma descendente y por ciudad de forma ascendente\n",
    "\n",
    "code1 = \"\"\"\n",
    "import pandas as pd\n",
    "import sqlite3\n",
    "\n",
    "conn = sqlite3.connect(\"data/chinook.db\")\n",
    "customers = pd.read_sql(\"select * from customers order by country desc, city asc\", conn)\n",
    "\"\"\"\n",
    "time1 = timeit.timeit(code1, number=2000)\n",
    "print(time1)\n",
    "\n",
    "code2 = \"\"\"\n",
    "import pandas as pd\n",
    "import sqlite3\n",
    "\n",
    "conn = sqlite3.connect(\"data/chinook.db\")\n",
    "customers = pd.read_sql(\"select * from customers\", conn)\n",
    "\n",
    "...\n",
    "\"\"\"\n",
    "time2 = timeit.timeit(code2, number=2000)\n",
    "print(time2)"
   ]
  },
  {
   "cell_type": "code",
   "execution_count": null,
   "metadata": {},
   "outputs": [],
   "source": [
    "## clientes de Chile o Buenos Aires\n",
    "\n",
    "code1 = \"\"\"\n",
    "import pandas as pd\n",
    "import sqlite3\n",
    "\n",
    "conn = sqlite3.connect(\"data/chinook.db\")\n",
    "customers = pd.read_sql(\"select * from customers where country = 'Chile' or city = 'Buenos Aires'\", conn)\n",
    "\"\"\"\n",
    "time1 = timeit.timeit(code1, number=2000)\n",
    "print(time1)\n",
    "\n",
    "code2 = \"\"\"\n",
    "import pandas as pd\n",
    "import sqlite3\n",
    "\n",
    "conn = sqlite3.connect(\"data/chinook.db\")\n",
    "customers = pd.read_sql(\"select * from customers\", conn)\n",
    "\n",
    "...\n",
    "\n",
    "\"\"\"\n",
    "time2 = timeit.timeit(code2, number=2000)\n",
    "print(time2)"
   ]
  },
  {
   "cell_type": "code",
   "execution_count": null,
   "metadata": {},
   "outputs": [],
   "source": [
    "## clientes que comiencen con A\n",
    "\n",
    "code1 = \"\"\"\n",
    "import pandas as pd\n",
    "import sqlite3\n",
    "\n",
    "conn = sqlite3.connect(\"data/chinook.db\")\n",
    "customers = pd.read_sql(\"select * from customers where firstname like 'A%' \", conn)\n",
    "\"\"\"\n",
    "time1 = timeit.timeit(code1, number=2000)\n",
    "print(time1)\n",
    "\n",
    "code2 = \"\"\"\n",
    "import pandas as pd\n",
    "import sqlite3\n",
    "\n",
    "conn = sqlite3.connect(\"data/chinook.db\")\n",
    "customers = pd.read_sql(\"select * from customers\", conn)\n",
    "\n",
    "...\n",
    "\n",
    "\"\"\"\n",
    "time2 = timeit.timeit(code2, number=2000)\n",
    "print(time2)"
   ]
  },
  {
   "cell_type": "code",
   "execution_count": null,
   "metadata": {},
   "outputs": [],
   "source": [
    "## monto total, cantidad de invoices y promedio de montos por país \n",
    "\n",
    "code1 = \"\"\"\n",
    "import pandas as pd\n",
    "import sqlite3\n",
    "\n",
    "conn = sqlite3.connect(\"data/chinook.db\")\n",
    "invoices = pd.read_sql(\"SELECT BillingCountry, sum(Total) monto, count(Total) cantidad, avg(Total) promedio FROM Invoices GROUP BY BillingCountry ORDER BY monto;\", conn)\n",
    "\"\"\"\n",
    "time1 = timeit.timeit(code1, number=2000)\n",
    "print(time1)\n",
    "\n",
    "code2 = \"\"\"\n",
    "import pandas as pd\n",
    "import sqlite3\n",
    "\n",
    "conn = sqlite3.connect(\"data/chinook.db\")\n",
    "invoices = pd.read_sql(\"SELECT *  FROM invoices\", conn)\n",
    "\n",
    "...\n",
    "\n",
    "\"\"\"\n",
    "time2 = timeit.timeit(code2, number=2000)\n",
    "print(time2)"
   ]
  }
 ],
 "metadata": {
  "kernelspec": {
   "display_name": "Python 3 (ipykernel)",
   "language": "python",
   "name": "python3"
  },
  "language_info": {
   "codemirror_mode": {
    "name": "ipython",
    "version": 3
   },
   "file_extension": ".py",
   "mimetype": "text/x-python",
   "name": "python",
   "nbconvert_exporter": "python",
   "pygments_lexer": "ipython3",
   "version": "3.8.10"
  }
 },
 "nbformat": 4,
 "nbformat_minor": 2
}
