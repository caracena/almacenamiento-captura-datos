{
 "cells": [
  {
   "cell_type": "markdown",
   "metadata": {},
   "source": [
    "## APIs"
   ]
  },
  {
   "cell_type": "markdown",
   "metadata": {},
   "source": [
    "### Ejercicio 1"
   ]
  },
  {
   "cell_type": "code",
   "execution_count": null,
   "metadata": {},
   "outputs": [],
   "source": [
    "import requests\n",
    "import json\n",
    "\n",
    "## https://pokedevs.gitbook.io/pokedex/resources/pokemon\n",
    "\n",
    "r = requests.get('https://pokeapi.glitch.me/v1/pokemon/pikachu')"
   ]
  },
  {
   "cell_type": "code",
   "execution_count": null,
   "metadata": {},
   "outputs": [],
   "source": [
    "r"
   ]
  },
  {
   "cell_type": "code",
   "execution_count": null,
   "metadata": {
    "scrolled": true
   },
   "outputs": [],
   "source": [
    "data = r.json()\n",
    "data"
   ]
  },
  {
   "cell_type": "code",
   "execution_count": null,
   "metadata": {},
   "outputs": [],
   "source": [
    "from IPython.display import Image\n",
    "from IPython.core.display import HTML \n",
    "Image(url= data[0]['sprite'])"
   ]
  },
  {
   "cell_type": "markdown",
   "metadata": {},
   "source": [
    "Obtener la lista de feriados de la API de https://www.feriadosapp.com/api/holidays.json"
   ]
  },
  {
   "cell_type": "code",
   "execution_count": null,
   "metadata": {},
   "outputs": [],
   "source": [
    "r = requests.get('https://www.feriadosapp.com/api/holidays.json')\n",
    "feriados = json.loads(r.text)"
   ]
  },
  {
   "cell_type": "code",
   "execution_count": null,
   "metadata": {},
   "outputs": [],
   "source": [
    "r.text[1:10]"
   ]
  },
  {
   "cell_type": "code",
   "execution_count": null,
   "metadata": {},
   "outputs": [],
   "source": [
    "feriados['status']"
   ]
  },
  {
   "cell_type": "code",
   "execution_count": null,
   "metadata": {},
   "outputs": [],
   "source": [
    "import pandas as pd\n",
    "\n",
    "for f in feriados['data']:\n",
    "    print(f['date'], f['title'], f['extra'])\n",
    "    \n",
    "pd.DataFrame(feriados['data'])    "
   ]
  },
  {
   "cell_type": "markdown",
   "metadata": {},
   "source": [
    "### Ejercicio 2"
   ]
  },
  {
   "cell_type": "markdown",
   "metadata": {},
   "source": [
    "Obtener las 10 últimas leyes chilenas de la API https://www.leychile.cl/Consulta/legislacion_abierta_web_service y crear un dataframe con ellas"
   ]
  },
  {
   "cell_type": "code",
   "execution_count": null,
   "metadata": {},
   "outputs": [],
   "source": [
    "import requests\n",
    "from xml.etree import ElementTree as ET\n",
    "\n",
    "payload = {\n",
    "    'opt': 3,\n",
    "    'cantidad': 10\n",
    "}\n",
    "\n",
    "r = requests.get('https://www.leychile.cl/Consulta/obtxml', params=payload)\n",
    "tree = ET.fromstring(r.text)\n"
   ]
  },
  {
   "cell_type": "code",
   "execution_count": null,
   "metadata": {},
   "outputs": [],
   "source": [
    "tree"
   ]
  },
  {
   "cell_type": "code",
   "execution_count": null,
   "metadata": {},
   "outputs": [],
   "source": [
    "for n in tree:\n",
    "    print(n)\n",
    "    for elem in n:\n",
    "        print(elem.tag)\n",
    "    break"
   ]
  },
  {
   "cell_type": "code",
   "execution_count": null,
   "metadata": {},
   "outputs": [],
   "source": [
    "for n in tree:\n",
    "    for elem in n:\n",
    "        print(elem.tag, elem.text)"
   ]
  },
  {
   "cell_type": "code",
   "execution_count": null,
   "metadata": {},
   "outputs": [],
   "source": [
    "!pip install xmljson"
   ]
  },
  {
   "cell_type": "code",
   "execution_count": null,
   "metadata": {
    "scrolled": true
   },
   "outputs": [],
   "source": [
    "import pandas as pd        \n",
    "import xmljson \n",
    "\n",
    "jsontree = xmljson.parker.data(tree)['NORMA']\n",
    "pd.DataFrame(jsontree)"
   ]
  },
  {
   "cell_type": "markdown",
   "metadata": {},
   "source": [
    "### Ejercicio 3"
   ]
  },
  {
   "cell_type": "markdown",
   "metadata": {},
   "source": [
    "Listar 2 ordenes de compra (incluyendo el monto de la OC) desde Mercado Público del día 9 de Enero del 2020 "
   ]
  },
  {
   "cell_type": "code",
   "execution_count": null,
   "metadata": {},
   "outputs": [],
   "source": [
    "import requests\n",
    "import time \n",
    "import pandas as pd\n",
    "\n",
    "payload = {\n",
    "    'fecha':'09012022',\n",
    "    'ticket': 'F8537A18-6766-4DEF-9E59-426B4FEE2844'\n",
    "}\n",
    "\n",
    "r = requests.get('https://api.mercadopublico.cl/servicios/v1/publico/ordenesdecompra.json', params=payload)\n",
    "\n",
    "data = r.json()\n",
    "\n",
    "ocs = []\n",
    "\n",
    "for oc in data['Listado'][:2]:\n",
    "    \n",
    "    print(oc['Codigo'])\n",
    "    \n",
    "    payload = {\n",
    "        'codigo':oc['Codigo'],\n",
    "        'ticket': 'F8537A18-6766-4DEF-9E59-426B4FEE2844'\n",
    "    }\n",
    "\n",
    "    r = requests.get('https://api.mercadopublico.cl/servicios/v1/publico/ordenesdecompra.json', params=payload)\n",
    "\n",
    "    ocdata = r.json()\n",
    "    \n",
    "    monto =ocdata['Listado'][0]['Total']\n",
    "    \n",
    "    ocs.append({'codigo':oc['Codigo'], 'monto': monto})\n",
    "\n",
    "df = pd.DataFrame(ocs)\n"
   ]
  },
  {
   "cell_type": "code",
   "execution_count": null,
   "metadata": {},
   "outputs": [],
   "source": [
    "df"
   ]
  },
  {
   "cell_type": "code",
   "execution_count": null,
   "metadata": {},
   "outputs": [],
   "source": [
    "data"
   ]
  },
  {
   "cell_type": "markdown",
   "metadata": {},
   "source": [
    "### Ejercicio 4"
   ]
  },
  {
   "cell_type": "markdown",
   "metadata": {},
   "source": [
    "Obtener las estrellas y issues del repositorio scikit-learn/scikit-learn usando la librería PyGithub"
   ]
  },
  {
   "cell_type": "code",
   "execution_count": null,
   "metadata": {},
   "outputs": [],
   "source": [
    "!pip install PyGithub"
   ]
  },
  {
   "cell_type": "code",
   "execution_count": null,
   "metadata": {},
   "outputs": [],
   "source": [
    "from github import Github\n",
    "\n",
    "g = Github()\n",
    "repo = g.get_repo(\"scikit-learn/scikit-learn\")\n",
    "print('Cantidad de estrellas:', repo.stargazers_count)\n",
    "\n",
    "open_issues = repo.get_issues(state='open')\n",
    "for issue in open_issues:\n",
    "    print(issue)\n",
    "    break"
   ]
  },
  {
   "cell_type": "markdown",
   "metadata": {},
   "source": [
    "### Ejercicio 5"
   ]
  },
  {
   "cell_type": "markdown",
   "metadata": {},
   "source": [
    "Listar los últimos tweets de la cuenta AnidInforma con la librería tweepy"
   ]
  },
  {
   "cell_type": "code",
   "execution_count": null,
   "metadata": {},
   "outputs": [],
   "source": [
    "!pip install tweepy"
   ]
  },
  {
   "cell_type": "code",
   "execution_count": null,
   "metadata": {},
   "outputs": [],
   "source": [
    "bearer = \"\""
   ]
  },
  {
   "cell_type": "code",
   "execution_count": null,
   "metadata": {},
   "outputs": [],
   "source": [
    "import tweepy\n",
    "\n",
    "# autenticarse\n",
    "client = tweepy.Client(bearer)\n",
    "\n",
    "# extraer id de usuario AnidInforma\n",
    "\n",
    "users = client.get_users(usernames=['AnidInforma', 'realDonaldTrump'])\n",
    "\n",
    "user_id = users.data[1].id\n",
    "\n",
    "# extraer los ultimos tweets de AnidInforma\n",
    "\n",
    "response = client.get_users_tweets(user_id)\n",
    "\n",
    "# Por defecto, solo se extrae id y text de los 10 ultimos tweets\n",
    "for tweet in response.data:\n",
    "    print(tweet.id)\n",
    "    print(tweet.text)\n"
   ]
  },
  {
   "cell_type": "code",
   "execution_count": null,
   "metadata": {},
   "outputs": [],
   "source": [
    "users.data[0]"
   ]
  },
  {
   "cell_type": "markdown",
   "metadata": {},
   "source": [
    "### Ejercicio 6"
   ]
  },
  {
   "cell_type": "markdown",
   "metadata": {},
   "source": [
    "Lista 10 tweets de 10 seguidores de AnidInforma"
   ]
  },
  {
   "cell_type": "code",
   "execution_count": null,
   "metadata": {},
   "outputs": [],
   "source": [
    "response = client.get_users_followers(user_id)\n",
    "\n",
    "users = response.data\n",
    "\n",
    "for user in users[:10]: \n",
    "\n",
    "    print(user.username) \n",
    "\n",
    "    response = client.get_users_tweets(user.id)\n",
    "    \n",
    "    if response.data:\n",
    "\n",
    "        # Por defecto, solo se extrae id y text de los 10 ultimos tweets\n",
    "        for tweet in response.data:\n",
    "            print(tweet.id)\n",
    "            print(tweet.text)\n",
    "        print()    "
   ]
  }
 ],
 "metadata": {
  "kernelspec": {
   "display_name": "Python 3 (ipykernel)",
   "language": "python",
   "name": "python3"
  },
  "language_info": {
   "codemirror_mode": {
    "name": "ipython",
    "version": 3
   },
   "file_extension": ".py",
   "mimetype": "text/x-python",
   "name": "python",
   "nbconvert_exporter": "python",
   "pygments_lexer": "ipython3",
   "version": "3.8.10"
  }
 },
 "nbformat": 4,
 "nbformat_minor": 2
}
